{
 "cells": [
  {
   "cell_type": "code",
   "execution_count": 5,
   "id": "dca91c5d",
   "metadata": {},
   "outputs": [
    {
     "name": "stdout",
     "output_type": "stream",
     "text": [
      "True\n"
     ]
    }
   ],
   "source": [
    "# Bài 1\n",
    "diem_toan = 8.5\n",
    "diem_ly = 7.5\n",
    "diem_hoa = 8\n",
    "average = (diem_toan + diem_hoa + diem_ly)/3\n",
    "gioi = average >= 8\n",
    "print (gioi)"
   ]
  },
  {
   "cell_type": "code",
   "execution_count": 8,
   "id": "b4c31a8b",
   "metadata": {},
   "outputs": [
    {
     "name": "stdout",
     "output_type": "stream",
     "text": [
      "False\n"
     ]
    }
   ],
   "source": [
    "diem_toan = 8.5\n",
    "diem_ly = 7.5\n",
    "diem_hoa = 8\n",
    "average = (diem_toan + diem_hoa + diem_ly)/3\n",
    "kha = 6<= average > 8\n",
    "print (kha)"
   ]
  },
  {
   "cell_type": "code",
   "execution_count": 13,
   "id": "4b49a59c",
   "metadata": {},
   "outputs": [
    {
     "name": "stdout",
     "output_type": "stream",
     "text": [
      "False\n"
     ]
    }
   ],
   "source": [
    "diem_toan = 8.5\n",
    "diem_ly = 7.5\n",
    "diem_hoa = 8\n",
    "average = (diem_toan + diem_hoa + diem_ly)/3\n",
    "trung_binh = average < 6\n",
    "print (trung_binh)"
   ]
  },
  {
   "cell_type": "code",
   "execution_count": 15,
   "id": "0656d849",
   "metadata": {},
   "outputs": [
    {
     "name": "stdout",
     "output_type": "stream",
     "text": [
      "8.0\n",
      "True\n",
      "False\n",
      "False\n"
     ]
    }
   ],
   "source": [
    "# Bài 1 (sua bai)\n",
    "diem_toan = 8.5\n",
    "diem_ly = 7.5\n",
    "diem_hoa = 8\n",
    "diem_trung_binh = (diem_toan + diem_ly + diem_hoa)/3\n",
    "print (diem_trung_binh)\n",
    "print (diem_trung_binh >=8)\n",
    "print (6 <= diem_trung_binh  < 8)\n",
    "print (diem_trung_binh <6 )"
   ]
  },
  {
   "cell_type": "code",
   "execution_count": null,
   "id": "2f651b75",
   "metadata": {},
   "outputs": [],
   "source": []
  },
  {
   "attachments": {},
   "cell_type": "markdown",
   "id": "d31c5d9b",
   "metadata": {},
   "source": []
  },
  {
   "cell_type": "code",
   "execution_count": 34,
   "id": "5c0ffe7e",
   "metadata": {},
   "outputs": [
    {
     "name": "stdout",
     "output_type": "stream",
     "text": [
      "False\n"
     ]
    }
   ],
   "source": [
    "# Bài 2\n",
    "participation_percent = 0.7\n",
    "course_complete_percent = 0.8\n",
    "final_exam_mark = 7.5\n",
    "xacnhan = participation_percent > 0.75 and course_complete_percent >= 0.8 and final_exam_mark >=7.5\n",
    "print (xacnhan)"
   ]
  },
  {
   "cell_type": "code",
   "execution_count": 48,
   "id": "cd979864",
   "metadata": {},
   "outputs": [
    {
     "name": "stdout",
     "output_type": "stream",
     "text": [
      "550.0\n",
      "39.6\n"
     ]
    }
   ],
   "source": [
    "# Bài 3\n",
    "vantoc1gio = 33\n",
    "somet1phutdiduoc = (33 * 1)/60 *1000\n",
    "sokm1h12phutdiduoc = (72 * 33)/60\n",
    "print (somet1phutdiduoc)\n",
    "print (sokm1h12phutdiduoc)"
   ]
  },
  {
   "cell_type": "code",
   "execution_count": 51,
   "id": "8cd8f65e",
   "metadata": {},
   "outputs": [
    {
     "name": "stdout",
     "output_type": "stream",
     "text": [
      "550.0\n",
      "39.6\n"
     ]
    }
   ],
   "source": [
    "velocity_km = 33\n",
    "velocity_m = velocity_km * 1000\n",
    "distance_per_minute_m = velocity_m / 60\n",
    "print (distance_per_minute_m )\n",
    "\n",
    "distance_1h12m = velocity_km /60 * 72\n",
    "print (distance_1h12m)"
   ]
  },
  {
   "cell_type": "code",
   "execution_count": 60,
   "id": "fa28de1c",
   "metadata": {},
   "outputs": [
    {
     "name": "stdout",
     "output_type": "stream",
     "text": [
      "25.0 phan tram\n"
     ]
    }
   ],
   "source": [
    "# bài 4\n",
    "chieu_dai = 16\n",
    "chieu_rong = 10\n",
    "chieu_dai2 = (16 + 4)\n",
    "dien_tich = chieu_dai * chieu_rong\n",
    "dien_tich2 = (chieu_dai2 * chieu_rong)\n",
    "dientichtanglen_phantram = (dien_tich2 * 100)/ 160 - 100 \n",
    "print (dientichtanglen_phantram ,'phan tram')"
   ]
  },
  {
   "cell_type": "code",
   "execution_count": 62,
   "id": "c3eb9bf0",
   "metadata": {},
   "outputs": [
    {
     "name": "stdout",
     "output_type": "stream",
     "text": [
      "0.25\n"
     ]
    }
   ],
   "source": [
    "# bài 4 sua bai\n",
    "length_1 = 16\n",
    "width = 10\n",
    "\n",
    "area_1 = length_1 * width\n",
    "\n",
    "lenght_2 = length_1 + 4\n",
    "area_2 = lenght_2 * width\n",
    "\n",
    "print (area_2 / area_1 - 1)\n",
    "\n"
   ]
  }
 ],
 "metadata": {
  "kernelspec": {
   "display_name": "Python 3 (ipykernel)",
   "language": "python",
   "name": "python3"
  },
  "language_info": {
   "codemirror_mode": {
    "name": "ipython",
    "version": 3
   },
   "file_extension": ".py",
   "mimetype": "text/x-python",
   "name": "python",
   "nbconvert_exporter": "python",
   "pygments_lexer": "ipython3",
   "version": "3.11.1"
  }
 },
 "nbformat": 4,
 "nbformat_minor": 5
}
